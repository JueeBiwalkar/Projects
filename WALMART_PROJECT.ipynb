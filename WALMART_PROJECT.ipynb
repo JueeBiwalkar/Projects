{
 "cells": [
  {
   "cell_type": "code",
   "execution_count": 1,
   "id": "164c5dd9",
   "metadata": {},
   "outputs": [],
   "source": [
    "import numpy as np\n",
    "import pandas as pd\n",
    "import seaborn as sns\n",
    "import matplotlib.pyplot as plt"
   ]
  },
  {
   "cell_type": "code",
   "execution_count": 2,
   "id": "d931c382",
   "metadata": {},
   "outputs": [],
   "source": [
    "df=pd.read_csv(\"walmart_data.csv\")"
   ]
  },
  {
   "cell_type": "code",
   "execution_count": 3,
   "id": "7ccb0be6",
   "metadata": {},
   "outputs": [
    {
     "data": {
      "text/html": [
       "<div>\n",
       "<style scoped>\n",
       "    .dataframe tbody tr th:only-of-type {\n",
       "        vertical-align: middle;\n",
       "    }\n",
       "\n",
       "    .dataframe tbody tr th {\n",
       "        vertical-align: top;\n",
       "    }\n",
       "\n",
       "    .dataframe thead th {\n",
       "        text-align: right;\n",
       "    }\n",
       "</style>\n",
       "<table border=\"1\" class=\"dataframe\">\n",
       "  <thead>\n",
       "    <tr style=\"text-align: right;\">\n",
       "      <th></th>\n",
       "      <th>User_ID</th>\n",
       "      <th>Product_ID</th>\n",
       "      <th>Gender</th>\n",
       "      <th>Age</th>\n",
       "      <th>Occupation</th>\n",
       "      <th>City_Category</th>\n",
       "      <th>Stay_In_Current_City_Years</th>\n",
       "      <th>Marital_Status</th>\n",
       "      <th>Product_Category</th>\n",
       "      <th>Purchase</th>\n",
       "    </tr>\n",
       "  </thead>\n",
       "  <tbody>\n",
       "    <tr>\n",
       "      <th>0</th>\n",
       "      <td>1000001</td>\n",
       "      <td>P00069042</td>\n",
       "      <td>F</td>\n",
       "      <td>0-17</td>\n",
       "      <td>10</td>\n",
       "      <td>A</td>\n",
       "      <td>2</td>\n",
       "      <td>0</td>\n",
       "      <td>3</td>\n",
       "      <td>8370</td>\n",
       "    </tr>\n",
       "    <tr>\n",
       "      <th>1</th>\n",
       "      <td>1000001</td>\n",
       "      <td>P00248942</td>\n",
       "      <td>F</td>\n",
       "      <td>0-17</td>\n",
       "      <td>10</td>\n",
       "      <td>A</td>\n",
       "      <td>2</td>\n",
       "      <td>0</td>\n",
       "      <td>1</td>\n",
       "      <td>15200</td>\n",
       "    </tr>\n",
       "    <tr>\n",
       "      <th>2</th>\n",
       "      <td>1000001</td>\n",
       "      <td>P00087842</td>\n",
       "      <td>F</td>\n",
       "      <td>0-17</td>\n",
       "      <td>10</td>\n",
       "      <td>A</td>\n",
       "      <td>2</td>\n",
       "      <td>0</td>\n",
       "      <td>12</td>\n",
       "      <td>1422</td>\n",
       "    </tr>\n",
       "    <tr>\n",
       "      <th>3</th>\n",
       "      <td>1000001</td>\n",
       "      <td>P00085442</td>\n",
       "      <td>F</td>\n",
       "      <td>0-17</td>\n",
       "      <td>10</td>\n",
       "      <td>A</td>\n",
       "      <td>2</td>\n",
       "      <td>0</td>\n",
       "      <td>12</td>\n",
       "      <td>1057</td>\n",
       "    </tr>\n",
       "    <tr>\n",
       "      <th>4</th>\n",
       "      <td>1000002</td>\n",
       "      <td>P00285442</td>\n",
       "      <td>M</td>\n",
       "      <td>55+</td>\n",
       "      <td>16</td>\n",
       "      <td>C</td>\n",
       "      <td>4+</td>\n",
       "      <td>0</td>\n",
       "      <td>8</td>\n",
       "      <td>7969</td>\n",
       "    </tr>\n",
       "  </tbody>\n",
       "</table>\n",
       "</div>"
      ],
      "text/plain": [
       "   User_ID Product_ID Gender   Age  Occupation City_Category  \\\n",
       "0  1000001  P00069042      F  0-17          10             A   \n",
       "1  1000001  P00248942      F  0-17          10             A   \n",
       "2  1000001  P00087842      F  0-17          10             A   \n",
       "3  1000001  P00085442      F  0-17          10             A   \n",
       "4  1000002  P00285442      M   55+          16             C   \n",
       "\n",
       "  Stay_In_Current_City_Years  Marital_Status  Product_Category  Purchase  \n",
       "0                          2               0                 3      8370  \n",
       "1                          2               0                 1     15200  \n",
       "2                          2               0                12      1422  \n",
       "3                          2               0                12      1057  \n",
       "4                         4+               0                 8      7969  "
      ]
     },
     "execution_count": 3,
     "metadata": {},
     "output_type": "execute_result"
    }
   ],
   "source": [
    "df.head()"
   ]
  },
  {
   "cell_type": "code",
   "execution_count": 4,
   "id": "6c56bda2",
   "metadata": {},
   "outputs": [
    {
     "data": {
      "text/html": [
       "<div>\n",
       "<style scoped>\n",
       "    .dataframe tbody tr th:only-of-type {\n",
       "        vertical-align: middle;\n",
       "    }\n",
       "\n",
       "    .dataframe tbody tr th {\n",
       "        vertical-align: top;\n",
       "    }\n",
       "\n",
       "    .dataframe thead th {\n",
       "        text-align: right;\n",
       "    }\n",
       "</style>\n",
       "<table border=\"1\" class=\"dataframe\">\n",
       "  <thead>\n",
       "    <tr style=\"text-align: right;\">\n",
       "      <th></th>\n",
       "      <th>User_ID</th>\n",
       "      <th>Product_ID</th>\n",
       "      <th>Gender</th>\n",
       "      <th>Age</th>\n",
       "      <th>Occupation</th>\n",
       "      <th>City_Category</th>\n",
       "      <th>Stay_In_Current_City_Years</th>\n",
       "      <th>Marital_Status</th>\n",
       "      <th>Product_Category</th>\n",
       "      <th>Purchase</th>\n",
       "    </tr>\n",
       "  </thead>\n",
       "  <tbody>\n",
       "    <tr>\n",
       "      <th>550063</th>\n",
       "      <td>1006033</td>\n",
       "      <td>P00372445</td>\n",
       "      <td>M</td>\n",
       "      <td>51-55</td>\n",
       "      <td>13</td>\n",
       "      <td>B</td>\n",
       "      <td>1</td>\n",
       "      <td>1</td>\n",
       "      <td>20</td>\n",
       "      <td>368</td>\n",
       "    </tr>\n",
       "    <tr>\n",
       "      <th>550064</th>\n",
       "      <td>1006035</td>\n",
       "      <td>P00375436</td>\n",
       "      <td>F</td>\n",
       "      <td>26-35</td>\n",
       "      <td>1</td>\n",
       "      <td>C</td>\n",
       "      <td>3</td>\n",
       "      <td>0</td>\n",
       "      <td>20</td>\n",
       "      <td>371</td>\n",
       "    </tr>\n",
       "    <tr>\n",
       "      <th>550065</th>\n",
       "      <td>1006036</td>\n",
       "      <td>P00375436</td>\n",
       "      <td>F</td>\n",
       "      <td>26-35</td>\n",
       "      <td>15</td>\n",
       "      <td>B</td>\n",
       "      <td>4+</td>\n",
       "      <td>1</td>\n",
       "      <td>20</td>\n",
       "      <td>137</td>\n",
       "    </tr>\n",
       "    <tr>\n",
       "      <th>550066</th>\n",
       "      <td>1006038</td>\n",
       "      <td>P00375436</td>\n",
       "      <td>F</td>\n",
       "      <td>55+</td>\n",
       "      <td>1</td>\n",
       "      <td>C</td>\n",
       "      <td>2</td>\n",
       "      <td>0</td>\n",
       "      <td>20</td>\n",
       "      <td>365</td>\n",
       "    </tr>\n",
       "    <tr>\n",
       "      <th>550067</th>\n",
       "      <td>1006039</td>\n",
       "      <td>P00371644</td>\n",
       "      <td>F</td>\n",
       "      <td>46-50</td>\n",
       "      <td>0</td>\n",
       "      <td>B</td>\n",
       "      <td>4+</td>\n",
       "      <td>1</td>\n",
       "      <td>20</td>\n",
       "      <td>490</td>\n",
       "    </tr>\n",
       "  </tbody>\n",
       "</table>\n",
       "</div>"
      ],
      "text/plain": [
       "        User_ID Product_ID Gender    Age  Occupation City_Category  \\\n",
       "550063  1006033  P00372445      M  51-55          13             B   \n",
       "550064  1006035  P00375436      F  26-35           1             C   \n",
       "550065  1006036  P00375436      F  26-35          15             B   \n",
       "550066  1006038  P00375436      F    55+           1             C   \n",
       "550067  1006039  P00371644      F  46-50           0             B   \n",
       "\n",
       "       Stay_In_Current_City_Years  Marital_Status  Product_Category  Purchase  \n",
       "550063                          1               1                20       368  \n",
       "550064                          3               0                20       371  \n",
       "550065                         4+               1                20       137  \n",
       "550066                          2               0                20       365  \n",
       "550067                         4+               1                20       490  "
      ]
     },
     "execution_count": 4,
     "metadata": {},
     "output_type": "execute_result"
    }
   ],
   "source": [
    "df.tail()"
   ]
  },
  {
   "cell_type": "code",
   "execution_count": 5,
   "id": "6f5e145d",
   "metadata": {},
   "outputs": [
    {
     "data": {
      "text/plain": [
       "(550068, 10)"
      ]
     },
     "execution_count": 5,
     "metadata": {},
     "output_type": "execute_result"
    }
   ],
   "source": [
    "df.shape"
   ]
  },
  {
   "cell_type": "code",
   "execution_count": 6,
   "id": "3114b623",
   "metadata": {},
   "outputs": [
    {
     "data": {
      "text/plain": [
       "User_ID                        int64\n",
       "Product_ID                    object\n",
       "Gender                        object\n",
       "Age                           object\n",
       "Occupation                     int64\n",
       "City_Category                 object\n",
       "Stay_In_Current_City_Years    object\n",
       "Marital_Status                 int64\n",
       "Product_Category               int64\n",
       "Purchase                       int64\n",
       "dtype: object"
      ]
     },
     "execution_count": 6,
     "metadata": {},
     "output_type": "execute_result"
    }
   ],
   "source": [
    "df.dtypes"
   ]
  },
  {
   "cell_type": "code",
   "execution_count": 7,
   "id": "b89cea1c",
   "metadata": {},
   "outputs": [
    {
     "data": {
      "text/plain": [
       "User_ID                       0.0\n",
       "Product_ID                    0.0\n",
       "Gender                        0.0\n",
       "Age                           0.0\n",
       "Occupation                    0.0\n",
       "City_Category                 0.0\n",
       "Stay_In_Current_City_Years    0.0\n",
       "Marital_Status                0.0\n",
       "Product_Category              0.0\n",
       "Purchase                      0.0\n",
       "dtype: float64"
      ]
     },
     "execution_count": 7,
     "metadata": {},
     "output_type": "execute_result"
    }
   ],
   "source": [
    "df.isnull().sum()/len(df)*100"
   ]
  },
  {
   "cell_type": "code",
   "execution_count": 8,
   "id": "43eb03a5",
   "metadata": {},
   "outputs": [
    {
     "data": {
      "text/html": [
       "<div>\n",
       "<style scoped>\n",
       "    .dataframe tbody tr th:only-of-type {\n",
       "        vertical-align: middle;\n",
       "    }\n",
       "\n",
       "    .dataframe tbody tr th {\n",
       "        vertical-align: top;\n",
       "    }\n",
       "\n",
       "    .dataframe thead th {\n",
       "        text-align: right;\n",
       "    }\n",
       "</style>\n",
       "<table border=\"1\" class=\"dataframe\">\n",
       "  <thead>\n",
       "    <tr style=\"text-align: right;\">\n",
       "      <th></th>\n",
       "      <th>User_ID</th>\n",
       "      <th>Occupation</th>\n",
       "      <th>Marital_Status</th>\n",
       "      <th>Product_Category</th>\n",
       "      <th>Purchase</th>\n",
       "    </tr>\n",
       "  </thead>\n",
       "  <tbody>\n",
       "    <tr>\n",
       "      <th>count</th>\n",
       "      <td>5.500680e+05</td>\n",
       "      <td>550068.000000</td>\n",
       "      <td>550068.000000</td>\n",
       "      <td>550068.000000</td>\n",
       "      <td>550068.000000</td>\n",
       "    </tr>\n",
       "    <tr>\n",
       "      <th>mean</th>\n",
       "      <td>1.003029e+06</td>\n",
       "      <td>8.076707</td>\n",
       "      <td>0.409653</td>\n",
       "      <td>5.404270</td>\n",
       "      <td>9263.968713</td>\n",
       "    </tr>\n",
       "    <tr>\n",
       "      <th>std</th>\n",
       "      <td>1.727592e+03</td>\n",
       "      <td>6.522660</td>\n",
       "      <td>0.491770</td>\n",
       "      <td>3.936211</td>\n",
       "      <td>5023.065394</td>\n",
       "    </tr>\n",
       "    <tr>\n",
       "      <th>min</th>\n",
       "      <td>1.000001e+06</td>\n",
       "      <td>0.000000</td>\n",
       "      <td>0.000000</td>\n",
       "      <td>1.000000</td>\n",
       "      <td>12.000000</td>\n",
       "    </tr>\n",
       "    <tr>\n",
       "      <th>25%</th>\n",
       "      <td>1.001516e+06</td>\n",
       "      <td>2.000000</td>\n",
       "      <td>0.000000</td>\n",
       "      <td>1.000000</td>\n",
       "      <td>5823.000000</td>\n",
       "    </tr>\n",
       "    <tr>\n",
       "      <th>50%</th>\n",
       "      <td>1.003077e+06</td>\n",
       "      <td>7.000000</td>\n",
       "      <td>0.000000</td>\n",
       "      <td>5.000000</td>\n",
       "      <td>8047.000000</td>\n",
       "    </tr>\n",
       "    <tr>\n",
       "      <th>75%</th>\n",
       "      <td>1.004478e+06</td>\n",
       "      <td>14.000000</td>\n",
       "      <td>1.000000</td>\n",
       "      <td>8.000000</td>\n",
       "      <td>12054.000000</td>\n",
       "    </tr>\n",
       "    <tr>\n",
       "      <th>max</th>\n",
       "      <td>1.006040e+06</td>\n",
       "      <td>20.000000</td>\n",
       "      <td>1.000000</td>\n",
       "      <td>20.000000</td>\n",
       "      <td>23961.000000</td>\n",
       "    </tr>\n",
       "  </tbody>\n",
       "</table>\n",
       "</div>"
      ],
      "text/plain": [
       "            User_ID     Occupation  Marital_Status  Product_Category  \\\n",
       "count  5.500680e+05  550068.000000   550068.000000     550068.000000   \n",
       "mean   1.003029e+06       8.076707        0.409653          5.404270   \n",
       "std    1.727592e+03       6.522660        0.491770          3.936211   \n",
       "min    1.000001e+06       0.000000        0.000000          1.000000   \n",
       "25%    1.001516e+06       2.000000        0.000000          1.000000   \n",
       "50%    1.003077e+06       7.000000        0.000000          5.000000   \n",
       "75%    1.004478e+06      14.000000        1.000000          8.000000   \n",
       "max    1.006040e+06      20.000000        1.000000         20.000000   \n",
       "\n",
       "            Purchase  \n",
       "count  550068.000000  \n",
       "mean     9263.968713  \n",
       "std      5023.065394  \n",
       "min        12.000000  \n",
       "25%      5823.000000  \n",
       "50%      8047.000000  \n",
       "75%     12054.000000  \n",
       "max     23961.000000  "
      ]
     },
     "execution_count": 8,
     "metadata": {},
     "output_type": "execute_result"
    }
   ],
   "source": [
    "df.describe()"
   ]
  },
  {
   "cell_type": "code",
   "execution_count": 9,
   "id": "4c468179",
   "metadata": {},
   "outputs": [
    {
     "name": "stdout",
     "output_type": "stream",
     "text": [
      "<class 'pandas.core.frame.DataFrame'>\n",
      "RangeIndex: 550068 entries, 0 to 550067\n",
      "Data columns (total 10 columns):\n",
      " #   Column                      Non-Null Count   Dtype \n",
      "---  ------                      --------------   ----- \n",
      " 0   User_ID                     550068 non-null  int64 \n",
      " 1   Product_ID                  550068 non-null  object\n",
      " 2   Gender                      550068 non-null  object\n",
      " 3   Age                         550068 non-null  object\n",
      " 4   Occupation                  550068 non-null  int64 \n",
      " 5   City_Category               550068 non-null  object\n",
      " 6   Stay_In_Current_City_Years  550068 non-null  object\n",
      " 7   Marital_Status              550068 non-null  int64 \n",
      " 8   Product_Category            550068 non-null  int64 \n",
      " 9   Purchase                    550068 non-null  int64 \n",
      "dtypes: int64(5), object(5)\n",
      "memory usage: 42.0+ MB\n"
     ]
    }
   ],
   "source": [
    "df.info()"
   ]
  },
  {
   "cell_type": "code",
   "execution_count": 10,
   "id": "3af3b14b",
   "metadata": {},
   "outputs": [],
   "source": [
    "#columns=['User_ID','Occupation', 'Marital_Status', 'Product_Category']\n",
    "df[\"Occupation\"]=df[\"Occupation\"].astype(\"object\")\n",
    "df[\"Marital_Status\"]=df[\"Marital_Status\"].astype(\"object\")\n",
    "df[\"Product_Category\"]=df[\"Product_Category\"].astype(\"object\")"
   ]
  },
  {
   "cell_type": "code",
   "execution_count": 11,
   "id": "183e1935",
   "metadata": {},
   "outputs": [
    {
     "data": {
      "text/plain": [
       "User_ID                        int64\n",
       "Product_ID                    object\n",
       "Gender                        object\n",
       "Age                           object\n",
       "Occupation                    object\n",
       "City_Category                 object\n",
       "Stay_In_Current_City_Years    object\n",
       "Marital_Status                object\n",
       "Product_Category              object\n",
       "Purchase                       int64\n",
       "dtype: object"
      ]
     },
     "execution_count": 11,
     "metadata": {},
     "output_type": "execute_result"
    }
   ],
   "source": [
    "df.dtypes"
   ]
  },
  {
   "cell_type": "code",
   "execution_count": 12,
   "id": "410f7af0",
   "metadata": {},
   "outputs": [
    {
     "data": {
      "text/plain": [
       "5891"
      ]
     },
     "execution_count": 12,
     "metadata": {},
     "output_type": "execute_result"
    }
   ],
   "source": [
    "df['User_ID'].nunique()"
   ]
  },
  {
   "cell_type": "code",
   "execution_count": 13,
   "id": "34e39581",
   "metadata": {},
   "outputs": [
    {
     "data": {
      "text/plain": [
       "7"
      ]
     },
     "execution_count": 13,
     "metadata": {},
     "output_type": "execute_result"
    }
   ],
   "source": [
    "df['Age'].nunique()"
   ]
  },
  {
   "cell_type": "code",
   "execution_count": 14,
   "id": "9efe3a92",
   "metadata": {},
   "outputs": [
    {
     "data": {
      "text/plain": [
       "21"
      ]
     },
     "execution_count": 14,
     "metadata": {},
     "output_type": "execute_result"
    }
   ],
   "source": [
    "df['Occupation'].nunique()"
   ]
  },
  {
   "cell_type": "code",
   "execution_count": 15,
   "id": "4ebf5f53",
   "metadata": {},
   "outputs": [
    {
     "data": {
      "text/plain": [
       "3"
      ]
     },
     "execution_count": 15,
     "metadata": {},
     "output_type": "execute_result"
    }
   ],
   "source": [
    "df['City_Category'].nunique()"
   ]
  },
  {
   "cell_type": "code",
   "execution_count": 16,
   "id": "93ee2394",
   "metadata": {},
   "outputs": [
    {
     "data": {
      "text/plain": [
       "20"
      ]
     },
     "execution_count": 16,
     "metadata": {},
     "output_type": "execute_result"
    }
   ],
   "source": [
    "df['Product_Category'].nunique()"
   ]
  },
  {
   "cell_type": "code",
   "execution_count": 17,
   "id": "7fae0d9b",
   "metadata": {},
   "outputs": [
    {
     "data": {
      "text/plain": [
       "18105"
      ]
     },
     "execution_count": 17,
     "metadata": {},
     "output_type": "execute_result"
    }
   ],
   "source": [
    "df['Purchase'].nunique()"
   ]
  },
  {
   "cell_type": "code",
   "execution_count": 18,
   "id": "2bf94449",
   "metadata": {},
   "outputs": [
    {
     "data": {
      "text/plain": [
       "4     13.145284\n",
       "0     12.659889\n",
       "7     10.750125\n",
       "1      8.621843\n",
       "17     7.279645\n",
       "20     6.101427\n",
       "12     5.668208\n",
       "14     4.964659\n",
       "2      4.833584\n",
       "16     4.612339\n",
       "6      3.700452\n",
       "3      3.208694\n",
       "10     2.350618\n",
       "5      2.213726\n",
       "15     2.211545\n",
       "11     2.106285\n",
       "19     1.538173\n",
       "13     1.404917\n",
       "18     1.203851\n",
       "9      1.143677\n",
       "8      0.281056\n",
       "Name: Occupation, dtype: float64"
      ]
     },
     "execution_count": 18,
     "metadata": {},
     "output_type": "execute_result"
    }
   ],
   "source": [
    "df[\"Occupation\"].value_counts(normalize=True)*100"
   ]
  },
  {
   "cell_type": "code",
   "execution_count": 21,
   "id": "f9845817",
   "metadata": {},
   "outputs": [
    {
     "data": {
      "text/plain": [
       "26-35    39.919974\n",
       "36-45    19.999891\n",
       "18-25    18.117760\n",
       "46-50     8.308246\n",
       "51-55     6.999316\n",
       "55+       3.909335\n",
       "0-17      2.745479\n",
       "Name: Age, dtype: float64"
      ]
     },
     "execution_count": 21,
     "metadata": {},
     "output_type": "execute_result"
    }
   ],
   "source": [
    "df['Age'].value_counts(normalize=True)*100"
   ]
  },
  {
   "cell_type": "code",
   "execution_count": 22,
   "id": "8f6802e6",
   "metadata": {},
   "outputs": [
    {
     "data": {
      "text/plain": [
       "B    42.026259\n",
       "C    31.118880\n",
       "A    26.854862\n",
       "Name: City_Category, dtype: float64"
      ]
     },
     "execution_count": 22,
     "metadata": {},
     "output_type": "execute_result"
    }
   ],
   "source": [
    "df['City_Category'].value_counts(normalize=True)*100"
   ]
  },
  {
   "cell_type": "code",
   "execution_count": 19,
   "id": "71ca6bc7",
   "metadata": {},
   "outputs": [
    {
     "data": {
      "text/plain": [
       "<AxesSubplot:ylabel='Gender'>"
      ]
     },
     "execution_count": 19,
     "metadata": {},
     "output_type": "execute_result"
    },
    {
     "data": {
      "image/png": "[encoded data removed]",
      "text/plain": [
       "<Figure size 432x288 with 1 Axes>"
      ]
     },
     "metadata": {},
     "output_type": "display_data"
    }
   ],
   "source": [
    "df[\"Gender\"].value_counts().plot(kind=\"pie\",autopct=\"%.2f\")"
   ]
  },
  {
   "cell_type": "code",
   "execution_count": 20,
   "id": "adc8ffc8",
   "metadata": {},
   "outputs": [
    {
     "data": {
      "text/plain": [
       "<AxesSubplot:ylabel='Marital_Status'>"
      ]
     },
     "execution_count": 20,
     "metadata": {},
     "output_type": "execute_result"
    },
    {
     "data": {
      "image/png": "[encoded data removed]",
      "text/plain": [
       "<Figure size 432x288 with 1 Axes>"
      ]
     },
     "metadata": {},
     "output_type": "display_data"
    }
   ],
   "source": [
    "df[\"Marital_Status\"].value_counts().plot(kind=\"pie\",autopct=\"%.2f\")"
   ]
  },
  {
   "cell_type": "code",
   "execution_count": 423,
   "id": "9b9377aa",
   "metadata": {},
   "outputs": [
    {
     "data": {
      "text/html": [
       "<div>\n",
       "<style scoped>\n",
       "    .dataframe tbody tr th:only-of-type {\n",
       "        vertical-align: middle;\n",
       "    }\n",
       "\n",
       "    .dataframe tbody tr th {\n",
       "        vertical-align: top;\n",
       "    }\n",
       "\n",
       "    .dataframe thead th {\n",
       "        text-align: right;\n",
       "    }\n",
       "</style>\n",
       "<table border=\"1\" class=\"dataframe\">\n",
       "  <thead>\n",
       "    <tr style=\"text-align: right;\">\n",
       "      <th></th>\n",
       "      <th>Purchase</th>\n",
       "    </tr>\n",
       "    <tr>\n",
       "      <th>Gender</th>\n",
       "      <th></th>\n",
       "    </tr>\n",
       "  </thead>\n",
       "  <tbody>\n",
       "    <tr>\n",
       "      <th>F</th>\n",
       "      <td>1186232642</td>\n",
       "    </tr>\n",
       "    <tr>\n",
       "      <th>M</th>\n",
       "      <td>3909580100</td>\n",
       "    </tr>\n",
       "  </tbody>\n",
       "</table>\n",
       "</div>"
      ],
      "text/plain": [
       "          Purchase\n",
       "Gender            \n",
       "F       1186232642\n",
       "M       3909580100"
      ]
     },
     "execution_count": 423,
     "metadata": {},
     "output_type": "execute_result"
    }
   ],
   "source": [
    "df2=pd.DataFrame(df2)\n"
   ]
  },
  {
   "cell_type": "code",
   "execution_count": 420,
   "id": "ff1f0014",
   "metadata": {},
   "outputs": [
    {
     "data": {
      "text/html": [
       "<div>\n",
       "<style scoped>\n",
       "    .dataframe tbody tr th:only-of-type {\n",
       "        vertical-align: middle;\n",
       "    }\n",
       "\n",
       "    .dataframe tbody tr th {\n",
       "        vertical-align: top;\n",
       "    }\n",
       "\n",
       "    .dataframe thead th {\n",
       "        text-align: right;\n",
       "    }\n",
       "</style>\n",
       "<table border=\"1\" class=\"dataframe\">\n",
       "  <thead>\n",
       "    <tr style=\"text-align: right;\">\n",
       "      <th></th>\n",
       "      <th>Purchase</th>\n",
       "    </tr>\n",
       "    <tr>\n",
       "      <th>Gender</th>\n",
       "      <th></th>\n",
       "    </tr>\n",
       "  </thead>\n",
       "  <tbody>\n",
       "    <tr>\n",
       "      <th>F</th>\n",
       "      <td>1186232642</td>\n",
       "    </tr>\n",
       "    <tr>\n",
       "      <th>M</th>\n",
       "      <td>3909580100</td>\n",
       "    </tr>\n",
       "  </tbody>\n",
       "</table>\n",
       "</div>"
      ],
      "text/plain": [
       "          Purchase\n",
       "Gender            \n",
       "F       1186232642\n",
       "M       3909580100"
      ]
     },
     "execution_count": 420,
     "metadata": {},
     "output_type": "execute_result"
    }
   ],
   "source": [
    "df2.groupby(['Gender'])[['Purchase']].sum()"
   ]
  },
  {
   "cell_type": "code",
   "execution_count": 421,
   "id": "0b7ee417",
   "metadata": {},
   "outputs": [],
   "source": [
    "df2=pd.DataFrame(df.groupby(['Gender'])[['Purchase']].sum())"
   ]
  },
  {
   "cell_type": "code",
   "execution_count": 78,
   "id": "7b12cb4a",
   "metadata": {},
   "outputs": [
    {
     "data": {
      "text/html": [
       "<div>\n",
       "<style scoped>\n",
       "    .dataframe tbody tr th:only-of-type {\n",
       "        vertical-align: middle;\n",
       "    }\n",
       "\n",
       "    .dataframe tbody tr th {\n",
       "        vertical-align: top;\n",
       "    }\n",
       "\n",
       "    .dataframe thead th {\n",
       "        text-align: right;\n",
       "    }\n",
       "</style>\n",
       "<table border=\"1\" class=\"dataframe\">\n",
       "  <thead>\n",
       "    <tr style=\"text-align: right;\">\n",
       "      <th></th>\n",
       "      <th>Purchase</th>\n",
       "      <th>tot_purchase_percent_gender_wise</th>\n",
       "    </tr>\n",
       "    <tr>\n",
       "      <th>Gender</th>\n",
       "      <th></th>\n",
       "      <th></th>\n",
       "    </tr>\n",
       "  </thead>\n",
       "  <tbody>\n",
       "    <tr>\n",
       "      <th>F</th>\n",
       "      <td>1186232642</td>\n",
       "      <td>23.278576</td>\n",
       "    </tr>\n",
       "    <tr>\n",
       "      <th>M</th>\n",
       "      <td>3909580100</td>\n",
       "      <td>76.721424</td>\n",
       "    </tr>\n",
       "  </tbody>\n",
       "</table>\n",
       "</div>"
      ],
      "text/plain": [
       "          Purchase  tot_purchase_percent_gender_wise\n",
       "Gender                                              \n",
       "F       1186232642                         23.278576\n",
       "M       3909580100                         76.721424"
      ]
     },
     "execution_count": 78,
     "metadata": {},
     "output_type": "execute_result"
    }
   ],
   "source": []
  },
  {
   "cell_type": "code",
   "execution_count": 40,
   "id": "eb68a81b",
   "metadata": {},
   "outputs": [
    {
     "data": {
      "text/html": [
       "<div>\n",
       "<style scoped>\n",
       "    .dataframe tbody tr th:only-of-type {\n",
       "        vertical-align: middle;\n",
       "    }\n",
       "\n",
       "    .dataframe tbody tr th {\n",
       "        vertical-align: top;\n",
       "    }\n",
       "\n",
       "    .dataframe thead th {\n",
       "        text-align: right;\n",
       "    }\n",
       "</style>\n",
       "<table border=\"1\" class=\"dataframe\">\n",
       "  <thead>\n",
       "    <tr style=\"text-align: right;\">\n",
       "      <th></th>\n",
       "      <th>Purchase</th>\n",
       "      <th>tot_purchase_percent_Marital_Status</th>\n",
       "    </tr>\n",
       "    <tr>\n",
       "      <th>Marital_Status</th>\n",
       "      <th></th>\n",
       "      <th></th>\n",
       "    </tr>\n",
       "  </thead>\n",
       "  <tbody>\n",
       "    <tr>\n",
       "      <th>0</th>\n",
       "      <td>3008927447</td>\n",
       "      <td>59.047057</td>\n",
       "    </tr>\n",
       "    <tr>\n",
       "      <th>1</th>\n",
       "      <td>2086885295</td>\n",
       "      <td>40.952943</td>\n",
       "    </tr>\n",
       "  </tbody>\n",
       "</table>\n",
       "</div>"
      ],
      "text/plain": [
       "                  Purchase  tot_purchase_percent_Marital_Status\n",
       "Marital_Status                                                 \n",
       "0               3008927447                            59.047057\n",
       "1               2086885295                            40.952943"
      ]
     },
     "execution_count": 40,
     "metadata": {},
     "output_type": "execute_result"
    }
   ],
   "source": [
    "df3=pd.DataFrame(df.groupby(['Marital_Status'])['Purchase'].sum())\n",
    "df3['tot_purchase_percent_Marital_Status']=(df3['Purchase'] / df3['Purchase'].sum()) * 100\n",
    "df3"
   ]
  },
  {
   "cell_type": "code",
   "execution_count": 44,
   "id": "552611e8",
   "metadata": {},
   "outputs": [
    {
     "data": {
      "text/html": [
       "<div>\n",
       "<style scoped>\n",
       "    .dataframe tbody tr th:only-of-type {\n",
       "        vertical-align: middle;\n",
       "    }\n",
       "\n",
       "    .dataframe tbody tr th {\n",
       "        vertical-align: top;\n",
       "    }\n",
       "\n",
       "    .dataframe thead th {\n",
       "        text-align: right;\n",
       "    }\n",
       "</style>\n",
       "<table border=\"1\" class=\"dataframe\">\n",
       "  <thead>\n",
       "    <tr style=\"text-align: right;\">\n",
       "      <th></th>\n",
       "      <th>Purchase</th>\n",
       "      <th>tot_purchase_percent_age_wise</th>\n",
       "    </tr>\n",
       "    <tr>\n",
       "      <th>Age</th>\n",
       "      <th></th>\n",
       "      <th></th>\n",
       "    </tr>\n",
       "  </thead>\n",
       "  <tbody>\n",
       "    <tr>\n",
       "      <th>0-17</th>\n",
       "      <td>134913183</td>\n",
       "      <td>2.647530</td>\n",
       "    </tr>\n",
       "    <tr>\n",
       "      <th>18-25</th>\n",
       "      <td>913848675</td>\n",
       "      <td>17.933325</td>\n",
       "    </tr>\n",
       "    <tr>\n",
       "      <th>26-35</th>\n",
       "      <td>2031770578</td>\n",
       "      <td>39.871374</td>\n",
       "    </tr>\n",
       "    <tr>\n",
       "      <th>36-45</th>\n",
       "      <td>1026569884</td>\n",
       "      <td>20.145361</td>\n",
       "    </tr>\n",
       "    <tr>\n",
       "      <th>46-50</th>\n",
       "      <td>420843403</td>\n",
       "      <td>8.258612</td>\n",
       "    </tr>\n",
       "    <tr>\n",
       "      <th>51-55</th>\n",
       "      <td>367099644</td>\n",
       "      <td>7.203947</td>\n",
       "    </tr>\n",
       "    <tr>\n",
       "      <th>55+</th>\n",
       "      <td>200767375</td>\n",
       "      <td>3.939850</td>\n",
       "    </tr>\n",
       "  </tbody>\n",
       "</table>\n",
       "</div>"
      ],
      "text/plain": [
       "         Purchase  tot_purchase_percent_age_wise\n",
       "Age                                             \n",
       "0-17    134913183                       2.647530\n",
       "18-25   913848675                      17.933325\n",
       "26-35  2031770578                      39.871374\n",
       "36-45  1026569884                      20.145361\n",
       "46-50   420843403                       8.258612\n",
       "51-55   367099644                       7.203947\n",
       "55+     200767375                       3.939850"
      ]
     },
     "execution_count": 44,
     "metadata": {},
     "output_type": "execute_result"
    }
   ],
   "source": [
    "df4=pd.DataFrame(df.groupby(['Age'])['Purchase'].sum())\n",
    "df4['tot_purchase_percent_age_wise']=(df4['Purchase']/df4['Purchase'].sum()) * 100\n",
    "df4"
   ]
  },
  {
   "cell_type": "code",
   "execution_count": 45,
   "id": "bdae588a",
   "metadata": {},
   "outputs": [
    {
     "data": {
      "text/html": [
       "<div>\n",
       "<style scoped>\n",
       "    .dataframe tbody tr th:only-of-type {\n",
       "        vertical-align: middle;\n",
       "    }\n",
       "\n",
       "    .dataframe tbody tr th {\n",
       "        vertical-align: top;\n",
       "    }\n",
       "\n",
       "    .dataframe thead th {\n",
       "        text-align: right;\n",
       "    }\n",
       "</style>\n",
       "<table border=\"1\" class=\"dataframe\">\n",
       "  <thead>\n",
       "    <tr style=\"text-align: right;\">\n",
       "      <th></th>\n",
       "      <th>Purchase</th>\n",
       "      <th>tot_purchase_percent_Occupation</th>\n",
       "    </tr>\n",
       "    <tr>\n",
       "      <th>Occupation</th>\n",
       "      <th></th>\n",
       "      <th></th>\n",
       "    </tr>\n",
       "  </thead>\n",
       "  <tbody>\n",
       "    <tr>\n",
       "      <th>0</th>\n",
       "      <td>635406958</td>\n",
       "      <td>12.469198</td>\n",
       "    </tr>\n",
       "    <tr>\n",
       "      <th>1</th>\n",
       "      <td>424614144</td>\n",
       "      <td>8.332609</td>\n",
       "    </tr>\n",
       "    <tr>\n",
       "      <th>2</th>\n",
       "      <td>238028583</td>\n",
       "      <td>4.671062</td>\n",
       "    </tr>\n",
       "    <tr>\n",
       "      <th>3</th>\n",
       "      <td>162002168</td>\n",
       "      <td>3.179123</td>\n",
       "    </tr>\n",
       "    <tr>\n",
       "      <th>4</th>\n",
       "      <td>666244484</td>\n",
       "      <td>13.074352</td>\n",
       "    </tr>\n",
       "    <tr>\n",
       "      <th>5</th>\n",
       "      <td>113649759</td>\n",
       "      <td>2.230258</td>\n",
       "    </tr>\n",
       "    <tr>\n",
       "      <th>6</th>\n",
       "      <td>188416784</td>\n",
       "      <td>3.697482</td>\n",
       "    </tr>\n",
       "    <tr>\n",
       "      <th>7</th>\n",
       "      <td>557371587</td>\n",
       "      <td>10.937835</td>\n",
       "    </tr>\n",
       "    <tr>\n",
       "      <th>8</th>\n",
       "      <td>14737388</td>\n",
       "      <td>0.289206</td>\n",
       "    </tr>\n",
       "    <tr>\n",
       "      <th>9</th>\n",
       "      <td>54340046</td>\n",
       "      <td>1.066367</td>\n",
       "    </tr>\n",
       "    <tr>\n",
       "      <th>10</th>\n",
       "      <td>115844465</td>\n",
       "      <td>2.273327</td>\n",
       "    </tr>\n",
       "    <tr>\n",
       "      <th>11</th>\n",
       "      <td>106751618</td>\n",
       "      <td>2.094889</td>\n",
       "    </tr>\n",
       "    <tr>\n",
       "      <th>12</th>\n",
       "      <td>305449446</td>\n",
       "      <td>5.994126</td>\n",
       "    </tr>\n",
       "    <tr>\n",
       "      <th>13</th>\n",
       "      <td>71919481</td>\n",
       "      <td>1.411345</td>\n",
       "    </tr>\n",
       "    <tr>\n",
       "      <th>14</th>\n",
       "      <td>259454692</td>\n",
       "      <td>5.091527</td>\n",
       "    </tr>\n",
       "    <tr>\n",
       "      <th>15</th>\n",
       "      <td>118960211</td>\n",
       "      <td>2.334470</td>\n",
       "    </tr>\n",
       "    <tr>\n",
       "      <th>16</th>\n",
       "      <td>238346955</td>\n",
       "      <td>4.677310</td>\n",
       "    </tr>\n",
       "    <tr>\n",
       "      <th>17</th>\n",
       "      <td>393281453</td>\n",
       "      <td>7.717738</td>\n",
       "    </tr>\n",
       "    <tr>\n",
       "      <th>18</th>\n",
       "      <td>60721461</td>\n",
       "      <td>1.191595</td>\n",
       "    </tr>\n",
       "    <tr>\n",
       "      <th>19</th>\n",
       "      <td>73700617</td>\n",
       "      <td>1.446298</td>\n",
       "    </tr>\n",
       "    <tr>\n",
       "      <th>20</th>\n",
       "      <td>296570442</td>\n",
       "      <td>5.819885</td>\n",
       "    </tr>\n",
       "  </tbody>\n",
       "</table>\n",
       "</div>"
      ],
      "text/plain": [
       "             Purchase  tot_purchase_percent_Occupation\n",
       "Occupation                                            \n",
       "0           635406958                        12.469198\n",
       "1           424614144                         8.332609\n",
       "2           238028583                         4.671062\n",
       "3           162002168                         3.179123\n",
       "4           666244484                        13.074352\n",
       "5           113649759                         2.230258\n",
       "6           188416784                         3.697482\n",
       "7           557371587                        10.937835\n",
       "8            14737388                         0.289206\n",
       "9            54340046                         1.066367\n",
       "10          115844465                         2.273327\n",
       "11          106751618                         2.094889\n",
       "12          305449446                         5.994126\n",
       "13           71919481                         1.411345\n",
       "14          259454692                         5.091527\n",
       "15          118960211                         2.334470\n",
       "16          238346955                         4.677310\n",
       "17          393281453                         7.717738\n",
       "18           60721461                         1.191595\n",
       "19           73700617                         1.446298\n",
       "20          296570442                         5.819885"
      ]
     },
     "execution_count": 45,
     "metadata": {},
     "output_type": "execute_result"
    }
   ],
   "source": [
    "df3=pd.DataFrame(df.groupby(['Occupation'])['Purchase'].sum())\n",
    "df3['tot_purchase_percent_Occupation']=(df3['Purchase'] / df3['Purchase'].sum()) * 100\n",
    "df3"
   ]
  },
  {
   "cell_type": "code",
   "execution_count": 36,
   "id": "4f90c531",
   "metadata": {},
   "outputs": [
    {
     "data": {
      "text/plain": [
       "1026"
      ]
     },
     "execution_count": 36,
     "metadata": {},
     "output_type": "execute_result"
    }
   ],
   "source": [
    "df.groupby(['User_ID'])['Purchase'].count().max()                                "
   ]
  },
  {
   "cell_type": "code",
   "execution_count": 37,
   "id": "da937b96",
   "metadata": {},
   "outputs": [
    {
     "data": {
      "text/plain": [
       "6"
      ]
     },
     "execution_count": 37,
     "metadata": {},
     "output_type": "execute_result"
    }
   ],
   "source": [
    "df.groupby(['User_ID'])['Purchase'].count().min()                                 "
   ]
  },
  {
   "cell_type": "code",
   "execution_count": 425,
   "id": "e43c646a",
   "metadata": {},
   "outputs": [
    {
     "data": {
      "image/png": "[encoded data removed]",
      "text/plain": [
       "<Figure size 432x288 with 1 Axes>"
      ]
     },
     "metadata": {
      "needs_background": "light"
     },
     "output_type": "display_data"
    }
   ],
   "source": [
    "sns.histplot(data=df, x=\"Purchase\")\n",
    "plt.show()"
   ]
  },
  {
   "cell_type": "code",
   "execution_count": 49,
   "id": "488fff43",
   "metadata": {},
   "outputs": [
    {
     "data": {
      "image/png": "[encoded data removed]",
      "text/plain": [
       "<Figure size 432x288 with 1 Axes>"
      ]
     },
     "metadata": {
      "needs_background": "light"
     },
     "output_type": "display_data"
    }
   ],
   "source": [
    "sns.boxplot(data=df, y='Purchase')\n",
    "plt.show()"
   ]
  },
  {
   "cell_type": "code",
   "execution_count": 69,
   "id": "650350ad",
   "metadata": {},
   "outputs": [
    {
     "data": {
      "text/plain": [
       "<AxesSubplot:xlabel='Gender', ylabel='Purchase'>"
      ]
     },
     "execution_count": 69,
     "metadata": {},
     "output_type": "execute_result"
    },
    {
     "data": {
      "image/png": "[encoded data removed]",
      "text/plain": [
       "<Figure size 432x288 with 1 Axes>"
      ]
     },
     "metadata": {
      "needs_background": "light"
     },
     "output_type": "display_data"
    }
   ],
   "source": [
    "sns.boxplot(data=df, y=\"Purchase\", x=\"Gender\")"
   ]
  },
  {
   "cell_type": "code",
   "execution_count": 70,
   "id": "bf239f65",
   "metadata": {},
   "outputs": [
    {
     "data": {
      "text/plain": [
       "<AxesSubplot:xlabel='Marital_Status', ylabel='Purchase'>"
      ]
     },
     "execution_count": 70,
     "metadata": {},
     "output_type": "execute_result"
    },
    {
     "data": {
      "image/png": "[encoded data removed]",
      "text/plain": [
       "<Figure size 432x288 with 1 Axes>"
      ]
     },
     "metadata": {
      "needs_background": "light"
     },
     "output_type": "display_data"
    }
   ],
   "source": [
    "sns.boxplot(data=df, y=\"Purchase\", x=\"Marital_Status\")"
   ]
  },
  {
   "cell_type": "code",
   "execution_count": 71,
   "id": "9fd96a05",
   "metadata": {},
   "outputs": [
    {
     "data": {
      "text/plain": [
       "<AxesSubplot:xlabel='Age', ylabel='Purchase'>"
      ]
     },
     "execution_count": 71,
     "metadata": {},
     "output_type": "execute_result"
    },
    {
     "data": {
      "image/png": "[encoded data removed]",
      "text/plain": [
       "<Figure size 432x288 with 1 Axes>"
      ]
     },
     "metadata": {
      "needs_background": "light"
     },
     "output_type": "display_data"
    }
   ],
   "source": [
    "sns.boxplot(data=df,x=\"Age\"y=\"Purchase\")"
   ]
  },
  {
   "cell_type": "code",
   "execution_count": 72,
   "id": "d263c897",
   "metadata": {},
   "outputs": [
    {
     "data": {
      "text/plain": [
       "<AxesSubplot:xlabel='City_Category', ylabel='Purchase'>"
      ]
     },
     "execution_count": 72,
     "metadata": {},
     "output_type": "execute_result"
    },
    {
     "data": {
      "image/png": "[encoded data removed]",
      "text/plain": [
       "<Figure size 432x288 with 1 Axes>"
      ]
     },
     "metadata": {
      "needs_background": "light"
     },
     "output_type": "display_data"
    }
   ],
   "source": [
    "sns.boxplot(data=df,x=\"City_Category\",y=\"Purchase\")"
   ]
  },
  {
   "cell_type": "code",
   "execution_count": 73,
   "id": "6729c0cf",
   "metadata": {},
   "outputs": [
    {
     "data": {
      "text/plain": [
       "<AxesSubplot:xlabel='Occupation', ylabel='Purchase'>"
      ]
     },
     "execution_count": 73,
     "metadata": {},
     "output_type": "execute_result"
    },
    {
     "data": {
      "image/png": "[encoded data removed]",
      "text/plain": [
       "<Figure size 432x288 with 1 Axes>"
      ]
     },
     "metadata": {
      "needs_background": "light"
     },
     "output_type": "display_data"
    }
   ],
   "source": [
    "sns.boxplot(data=df, y=\"Purchase\", x=\"Occupation\")"
   ]
  },
  {
   "cell_type": "code",
   "execution_count": 50,
   "id": "ca10db8c",
   "metadata": {},
   "outputs": [
    {
     "data": {
      "text/plain": [
       "<AxesSubplot:xlabel='Gender', ylabel='count'>"
      ]
     },
     "execution_count": 50,
     "metadata": {},
     "output_type": "execute_result"
    },
    {
     "data": {
      "image/png": "[encoded data removed]",
      "text/plain": [
       "<Figure size 432x288 with 1 Axes>"
      ]
     },
     "metadata": {
      "needs_background": "light"
     },
     "output_type": "display_data"
    }
   ],
   "source": [
    "sns.countplot(data=df, x='Gender')"
   ]
  },
  {
   "cell_type": "code",
   "execution_count": 51,
   "id": "ddcc7127",
   "metadata": {},
   "outputs": [
    {
     "data": {
      "text/plain": [
       "<AxesSubplot:xlabel='Occupation', ylabel='count'>"
      ]
     },
     "execution_count": 51,
     "metadata": {},
     "output_type": "execute_result"
    },
    {
     "data": {
      "image/png": "[encoded data removed]",
      "text/plain": [
       "<Figure size 432x288 with 1 Axes>"
      ]
     },
     "metadata": {
      "needs_background": "light"
     },
     "output_type": "display_data"
    }
   ],
   "source": [
    "sns.countplot(data=df, x='Occupation')"
   ]
  },
  {
   "cell_type": "code",
   "execution_count": 52,
   "id": "5ff7a682",
   "metadata": {},
   "outputs": [
    {
     "data": {
      "text/plain": [
       "<AxesSubplot:xlabel='City_Category', ylabel='count'>"
      ]
     },
     "execution_count": 52,
     "metadata": {},
     "output_type": "execute_result"
    },
    {
     "data": {
      "image/png": "[encoded data removed]",
      "text/plain": [
       "<Figure size 432x288 with 1 Axes>"
      ]
     },
     "metadata": {
      "needs_background": "light"
     },
     "output_type": "display_data"
    }
   ],
   "source": [
    "sns.countplot(data=df, x='City_Category')"
   ]
  },
  {
   "cell_type": "code",
   "execution_count": 53,
   "id": "47b8ab6f",
   "metadata": {},
   "outputs": [
    {
     "data": {
      "text/plain": [
       "<AxesSubplot:xlabel='Marital_Status', ylabel='count'>"
      ]
     },
     "execution_count": 53,
     "metadata": {},
     "output_type": "execute_result"
    },
    {
     "data": {
      "image/png": "[encoded data removed]",
      "text/plain": [
       "<Figure size 432x288 with 1 Axes>"
      ]
     },
     "metadata": {
      "needs_background": "light"
     },
     "output_type": "display_data"
    }
   ],
   "source": [
    "sns.countplot(data=df, x='Marital_Status')"
   ]
  },
  {
   "cell_type": "code",
   "execution_count": 54,
   "id": "446d41ce",
   "metadata": {},
   "outputs": [
    {
     "data": {
      "text/plain": [
       "<AxesSubplot:xlabel='Product_Category', ylabel='count'>"
      ]
     },
     "execution_count": 54,
     "metadata": {},
     "output_type": "execute_result"
    },
    {
     "data": {
      "image/png": "[encoded data removed]",
      "text/plain": [
       "<Figure size 432x288 with 1 Axes>"
      ]
     },
     "metadata": {
      "needs_background": "light"
     },
     "output_type": "display_data"
    }
   ],
   "source": [
    "sns.countplot(data=df, x='Product_Category')"
   ]
  },
  {
   "cell_type": "code",
   "execution_count": 55,
   "id": "c8f6d595",
   "metadata": {},
   "outputs": [
    {
     "data": {
      "text/plain": [
       "<AxesSubplot:xlabel='Gender', ylabel='Purchase'>"
      ]
     },
     "execution_count": 55,
     "metadata": {},
     "output_type": "execute_result"
    },
    {
     "data": {
      "image/png": "[encoded data removed]",
      "text/plain": [
       "<Figure size 432x288 with 1 Axes>"
      ]
     },
     "metadata": {
      "needs_background": "light"
     },
     "output_type": "display_data"
    }
   ],
   "source": [
    "sns.barplot(data=df, y='Purchase', x=\"Gender\",hue=\"Age\",palette='Set3')"
   ]
  },
  {
   "cell_type": "code",
   "execution_count": 67,
   "id": "5e8717df",
   "metadata": {},
   "outputs": [
    {
     "data": {
      "image/png": "[encoded data removed]",
      "text/plain": [
       "<Figure size 432x288 with 1 Axes>"
      ]
     },
     "metadata": {
      "needs_background": "light"
     },
     "output_type": "display_data"
    }
   ],
   "source": [
    "sns.histplot(data=df[df[\"Gender\"]==\"M\"][\"Purchase\"])\n",
    "plt.show()"
   ]
  },
  {
   "cell_type": "code",
   "execution_count": 68,
   "id": "9d0b8bb8",
   "metadata": {},
   "outputs": [
    {
     "data": {
      "image/png": "[encoded data removed]",
      "text/plain": [
       "<Figure size 432x288 with 1 Axes>"
      ]
     },
     "metadata": {
      "needs_background": "light"
     },
     "output_type": "display_data"
    }
   ],
   "source": [
    "sns.histplot(data=df[df[\"Gender\"]==\"M\"][\"Purchase\"])\n",
    "plt.show()"
   ]
  },
  {
   "cell_type": "code",
   "execution_count": 82,
   "id": "c70575f8",
   "metadata": {},
   "outputs": [
    {
     "data": {
      "text/html": [
       "<div>\n",
       "<style scoped>\n",
       "    .dataframe tbody tr th:only-of-type {\n",
       "        vertical-align: middle;\n",
       "    }\n",
       "\n",
       "    .dataframe tbody tr th {\n",
       "        vertical-align: top;\n",
       "    }\n",
       "\n",
       "    .dataframe thead th {\n",
       "        text-align: right;\n",
       "    }\n",
       "</style>\n",
       "<table border=\"1\" class=\"dataframe\">\n",
       "  <thead>\n",
       "    <tr style=\"text-align: right;\">\n",
       "      <th></th>\n",
       "      <th>User_ID</th>\n",
       "      <th>Gender</th>\n",
       "      <th>Purchase</th>\n",
       "    </tr>\n",
       "  </thead>\n",
       "  <tbody>\n",
       "    <tr>\n",
       "      <th>0</th>\n",
       "      <td>1000001</td>\n",
       "      <td>F</td>\n",
       "      <td>334093</td>\n",
       "    </tr>\n",
       "    <tr>\n",
       "      <th>1</th>\n",
       "      <td>1000002</td>\n",
       "      <td>M</td>\n",
       "      <td>810472</td>\n",
       "    </tr>\n",
       "    <tr>\n",
       "      <th>2</th>\n",
       "      <td>1000003</td>\n",
       "      <td>M</td>\n",
       "      <td>341635</td>\n",
       "    </tr>\n",
       "    <tr>\n",
       "      <th>3</th>\n",
       "      <td>1000004</td>\n",
       "      <td>M</td>\n",
       "      <td>206468</td>\n",
       "    </tr>\n",
       "    <tr>\n",
       "      <th>4</th>\n",
       "      <td>1000005</td>\n",
       "      <td>M</td>\n",
       "      <td>821001</td>\n",
       "    </tr>\n",
       "    <tr>\n",
       "      <th>...</th>\n",
       "      <td>...</td>\n",
       "      <td>...</td>\n",
       "      <td>...</td>\n",
       "    </tr>\n",
       "    <tr>\n",
       "      <th>5886</th>\n",
       "      <td>1006036</td>\n",
       "      <td>F</td>\n",
       "      <td>4116058</td>\n",
       "    </tr>\n",
       "    <tr>\n",
       "      <th>5887</th>\n",
       "      <td>1006037</td>\n",
       "      <td>F</td>\n",
       "      <td>1119538</td>\n",
       "    </tr>\n",
       "    <tr>\n",
       "      <th>5888</th>\n",
       "      <td>1006038</td>\n",
       "      <td>F</td>\n",
       "      <td>90034</td>\n",
       "    </tr>\n",
       "    <tr>\n",
       "      <th>5889</th>\n",
       "      <td>1006039</td>\n",
       "      <td>F</td>\n",
       "      <td>590319</td>\n",
       "    </tr>\n",
       "    <tr>\n",
       "      <th>5890</th>\n",
       "      <td>1006040</td>\n",
       "      <td>M</td>\n",
       "      <td>1653299</td>\n",
       "    </tr>\n",
       "  </tbody>\n",
       "</table>\n",
       "<p>5891 rows × 3 columns</p>\n",
       "</div>"
      ],
      "text/plain": [
       "      User_ID Gender  Purchase\n",
       "0     1000001      F    334093\n",
       "1     1000002      M    810472\n",
       "2     1000003      M    341635\n",
       "3     1000004      M    206468\n",
       "4     1000005      M    821001\n",
       "...       ...    ...       ...\n",
       "5886  1006036      F   4116058\n",
       "5887  1006037      F   1119538\n",
       "5888  1006038      F     90034\n",
       "5889  1006039      F    590319\n",
       "5890  1006040      M   1653299\n",
       "\n",
       "[5891 rows x 3 columns]"
      ]
     },
     "execution_count": 82,
     "metadata": {},
     "output_type": "execute_result"
    }
   ],
   "source": [
    "avg_gender_tot = df.groupby(['User_ID', 'Gender'])[['Purchase']].sum()\n",
    "avg_gender_tot = avg_gender_tot.reset_index()\n",
    "avg_gender_tot"
   ]
  },
  {
   "cell_type": "code",
   "execution_count": 83,
   "id": "34fba24e",
   "metadata": {},
   "outputs": [
    {
     "data": {
      "text/plain": [
       "M    4225\n",
       "F    1666\n",
       "Name: Gender, dtype: int64"
      ]
     },
     "execution_count": 83,
     "metadata": {},
     "output_type": "execute_result"
    }
   ],
   "source": [
    "avg_gender_tot[\"Gender\"].value_counts()"
   ]
  },
  {
   "cell_type": "code",
   "execution_count": 88,
   "id": "bccae357",
   "metadata": {},
   "outputs": [
    {
     "data": {
      "text/html": [
       "<div>\n",
       "<style scoped>\n",
       "    .dataframe tbody tr th:only-of-type {\n",
       "        vertical-align: middle;\n",
       "    }\n",
       "\n",
       "    .dataframe tbody tr th {\n",
       "        vertical-align: top;\n",
       "    }\n",
       "\n",
       "    .dataframe thead th {\n",
       "        text-align: right;\n",
       "    }\n",
       "</style>\n",
       "<table border=\"1\" class=\"dataframe\">\n",
       "  <thead>\n",
       "    <tr style=\"text-align: right;\">\n",
       "      <th></th>\n",
       "      <th>Purchase</th>\n",
       "    </tr>\n",
       "    <tr>\n",
       "      <th>Gender</th>\n",
       "      <th></th>\n",
       "    </tr>\n",
       "  </thead>\n",
       "  <tbody>\n",
       "    <tr>\n",
       "      <th>F</th>\n",
       "      <td>712024.394958</td>\n",
       "    </tr>\n",
       "    <tr>\n",
       "      <th>M</th>\n",
       "      <td>925344.402367</td>\n",
       "    </tr>\n",
       "  </tbody>\n",
       "</table>\n",
       "</div>"
      ],
      "text/plain": [
       "             Purchase\n",
       "Gender               \n",
       "F       712024.394958\n",
       "M       925344.402367"
      ]
     },
     "execution_count": 88,
     "metadata": {},
     "output_type": "execute_result"
    }
   ],
   "source": [
    "avg_gender_tot.groupby(['Gender'])[['Purchase']].mean()"
   ]
  },
  {
   "cell_type": "code",
   "execution_count": 85,
   "id": "7177ff8a",
   "metadata": {},
   "outputs": [
    {
     "data": {
      "text/plain": [
       "<AxesSubplot:xlabel='Purchase', ylabel='Count'>"
      ]
     },
     "execution_count": 85,
     "metadata": {},
     "output_type": "execute_result"
    },
    {
     "data": {
      "image/png": "[encoded data removed]",
      "text/plain": [
       "<Figure size 432x288 with 1 Axes>"
      ]
     },
     "metadata": {
      "needs_background": "light"
     },
     "output_type": "display_data"
    }
   ],
   "source": [
    "sns.histplot(data=avg_gender_tot[avg_gender_tot['Gender']=='M']['Purchase'])\n"
   ]
  },
  {
   "cell_type": "code",
   "execution_count": 86,
   "id": "9c534735",
   "metadata": {},
   "outputs": [
    {
     "data": {
      "text/plain": [
       "<AxesSubplot:xlabel='Purchase', ylabel='Count'>"
      ]
     },
     "execution_count": 86,
     "metadata": {},
     "output_type": "execute_result"
    },
    {
     "data": {
      "image/png": "[encoded data removed]",
      "text/plain": [
       "<Figure size 432x288 with 1 Axes>"
      ]
     },
     "metadata": {
      "needs_background": "light"
     },
     "output_type": "display_data"
    }
   ],
   "source": [
    "sns.histplot(data=avg_gender_tot[avg_gender_tot['Gender']=='F']['Purchase'])"
   ]
  },
  {
   "cell_type": "code",
   "execution_count": 89,
   "id": "855e9999",
   "metadata": {},
   "outputs": [],
   "source": [
    "avg_male = avg_gender_tot[avg_gender_tot['Gender']=='M']"
   ]
  },
  {
   "cell_type": "code",
   "execution_count": 90,
   "id": "65cd4099",
   "metadata": {},
   "outputs": [],
   "source": [
    "avg_female = avg_gender_tot[avg_gender_tot['Gender']=='F']"
   ]
  },
  {
   "cell_type": "code",
   "execution_count": 358,
   "id": "8b33e2d8",
   "metadata": {},
   "outputs": [],
   "source": [
    "sample = 1500\n",
    "n = 1000\n",
    "male_mean = []\n",
    "female_mean = []\n",
    "\n",
    "for i in range(n):\n",
    "    male_mean1 = avg_male.sample(sample)['Purchase'].mean()\n",
    "    female_mean1 = avg_female.sample(sample)['Purchase'].mean()\n",
    "    \n",
    "    male_mean.append(male_mean1)\n",
    "    female_mean.append(female_mean1)"
   ]
  },
  {
   "cell_type": "code",
   "execution_count": 426,
   "id": "40180766",
   "metadata": {},
   "outputs": [
    {
     "data": {
      "text/plain": [
       "<AxesSubplot:ylabel='Count'>"
      ]
     },
     "execution_count": 426,
     "metadata": {},
     "output_type": "execute_result"
    },
    {
     "data": {
      "image/png": "[encoded data removed]",
      "text/plain": [
       "<Figure size 432x288 with 1 Axes>"
      ]
     },
     "metadata": {
      "needs_background": "light"
     },
     "output_type": "display_data"
    }
   ],
   "source": [
    "sns.histplot(avg_male)"
   ]
  },
  {
   "cell_type": "code",
   "execution_count": 299,
   "id": "7ac890be",
   "metadata": {},
   "outputs": [
    {
     "data": {
      "text/plain": [
       "<AxesSubplot:ylabel='Count'>"
      ]
     },
     "execution_count": 299,
     "metadata": {},
     "output_type": "execute_result"
    },
    {
     "data": {
      "image/png": "[encoded data removed]",
      "text/plain": [
       "<Figure size 432x288 with 1 Axes>"
      ]
     },
     "metadata": {
      "needs_background": "light"
     },
     "output_type": "display_data"
    }
   ],
   "source": [
    "sns.histplot(female_mean)"
   ]
  },
  {
   "cell_type": "code",
   "execution_count": 300,
   "id": "b255ba65",
   "metadata": {},
   "outputs": [
    {
     "data": {
      "text/plain": [
       "925344.4023668639"
      ]
     },
     "execution_count": 300,
     "metadata": {},
     "output_type": "execute_result"
    }
   ],
   "source": [
    "#Taking the values for z at 90%, 95% and 99% confidence interval as:\n",
    "z90=1.645 #90% Confidence Interval\n",
    "z95=1.960 #95% Confidence Interval\n",
    "z99=2.576 #99% Confidence Interval\n",
    "#POP AVG\n",
    "avg_male['Purchase'].mean()"
   ]
  },
  {
   "cell_type": "code",
   "execution_count": 301,
   "id": "aefec647",
   "metadata": {},
   "outputs": [
    {
     "data": {
      "text/plain": [
       "712024.3949579832"
      ]
     },
     "execution_count": 301,
     "metadata": {},
     "output_type": "execute_result"
    }
   ],
   "source": [
    "avg_female['Purchase'].mean()"
   ]
  },
  {
   "cell_type": "code",
   "execution_count": 360,
   "id": "532f2956",
   "metadata": {},
   "outputs": [
    {
     "data": {
      "text/plain": [
       "925805.6834333334"
      ]
     },
     "execution_count": 360,
     "metadata": {},
     "output_type": "execute_result"
    }
   ],
   "source": [
    "#SAMPLE AVG\n",
    "sample_mean_male=np.mean(male_mean)\n",
    "sample_mean_male"
   ]
  },
  {
   "cell_type": "code",
   "execution_count": 361,
   "id": "52d447bb",
   "metadata": {},
   "outputs": [
    {
     "data": {
      "text/plain": [
       "711900.5610306666"
      ]
     },
     "execution_count": 361,
     "metadata": {},
     "output_type": "execute_result"
    }
   ],
   "source": [
    "sample_mean_female=np.mean(female_mean)\n",
    "sample_mean_female"
   ]
  },
  {
   "cell_type": "code",
   "execution_count": 362,
   "id": "4ce4fab0",
   "metadata": {},
   "outputs": [
    {
     "data": {
      "text/plain": [
       "20400.96990662711"
      ]
     },
     "execution_count": 362,
     "metadata": {},
     "output_type": "execute_result"
    }
   ],
   "source": [
    "#SAMPLE STD\n",
    "sample_std_male=pd.Series(male_mean).std()\n",
    "sample_std_male"
   ]
  },
  {
   "cell_type": "code",
   "execution_count": 363,
   "id": "99fad7f2",
   "metadata": {},
   "outputs": [
    {
     "data": {
      "text/plain": [
       "6613.629711019268"
      ]
     },
     "execution_count": 363,
     "metadata": {},
     "output_type": "execute_result"
    }
   ],
   "source": [
    "sample_std_female=pd.Series(female_mean).std()\n",
    "sample_std_female"
   ]
  },
  {
   "cell_type": "code",
   "execution_count": 364,
   "id": "c0c4bd38",
   "metadata": {},
   "outputs": [
    {
     "data": {
      "text/plain": [
       "526.7507779656365"
      ]
     },
     "execution_count": 364,
     "metadata": {},
     "output_type": "execute_result"
    }
   ],
   "source": [
    "#SAMPLE ERROR\n",
    "sample_male_std_error=pd.Series(male_mean).std()/np.sqrt(1500)\n",
    "sample_male_std_error"
   ]
  },
  {
   "cell_type": "code",
   "execution_count": 365,
   "id": "8267621c",
   "metadata": {},
   "outputs": [
    {
     "data": {
      "text/plain": [
       "170.7631848584013"
      ]
     },
     "execution_count": 365,
     "metadata": {},
     "output_type": "execute_result"
    }
   ],
   "source": [
    "sample_female_std_error=pd.Series(female_mean).std()/np.sqrt(1500)\n",
    "sample_female_std_error"
   ]
  },
  {
   "cell_type": "code",
   "execution_count": 366,
   "id": "7943469b",
   "metadata": {},
   "outputs": [
    {
     "name": "stdout",
     "output_type": "stream",
     "text": [
      "[ 924773.2519085208 , 926838.114958146 ]\n"
     ]
    }
   ],
   "source": [
    "#CI MALE\n",
    "CI_Upper_Limit_male=z95*sample_male_std_error + sample_mean_male\n",
    "CI_Lower_Limit_male= sample_mean_male - z95*sample_male_std_error\n",
    "print(\"[\",CI_Lower_Limit_male,\",\",CI_Upper_Limit_male,\"]\")"
   ]
  },
  {
   "cell_type": "code",
   "execution_count": 355,
   "id": "2f6a8d9b",
   "metadata": {},
   "outputs": [
    {
     "name": "stdout",
     "output_type": "stream",
     "text": [
      "[ 711948.8871236918 , 713557.2352688082 ]\n"
     ]
    }
   ],
   "source": [
    "#CI FEMALE\n",
    "CI_Upper_Limit_female=z95*sample_female_std_error + sample_mean_female\n",
    "CI_Lower_Limit_female=sample_mean_female - z95*sample_female_std_error\n",
    "print(\"[\",CI_Lower_Limit_female,\",\",CI_Upper_Limit_female,\"]\")"
   ]
  },
  {
   "cell_type": "code",
   "execution_count": 333,
   "id": "99d3b0e0",
   "metadata": {},
   "outputs": [
    {
     "name": "stdout",
     "output_type": "stream",
     "text": [
      "population_avg_male 925344.4023668639\n",
      "population_avg_female: 712024.3949579832\n",
      "sample_mean_male: 925461.8783437499\n",
      "sample_mean_female: 712753.06119625\n",
      "sample_std_male: 28050.091815079166\n",
      "sample_std_female: 15890.575461579334\n",
      "sample_male_std_error: 887.0217871249675\n",
      "sample_female_std_error: 502.5041178937216\n",
      "90%_CI_MALE: [ 924002.7275039293 , 926921.0291835705 ]\n",
      "90%_CI_FEMALE: [ 711926.4419223148 , 713579.6804701852 ]\n"
     ]
    }
   ],
   "source": [
    "#FOR 90% CI\n",
    "sample = 1000\n",
    "n = 800\n",
    "male_mean = []\n",
    "female_mean = []\n",
    "\n",
    "for i in range(n):\n",
    "    male_mean1 = avg_male.sample(sample)['Purchase'].mean()\n",
    "    female_mean1 = avg_female.sample(sample)['Purchase'].mean()\n",
    "    \n",
    "    male_mean.append(male_mean1)\n",
    "    female_mean.append(female_mean1)\n",
    "#POP MEAN\n",
    "avg_m=avg_male['Purchase'].mean()\n",
    "avg_f=avg_female['Purchase'].mean()\n",
    "print(\"population_avg_male\",avg_m)\n",
    "print(\"population_avg_female:\",avg_f)\n",
    "\n",
    "#SAMPLE AVG M\n",
    "sample_mean_male=np.mean(male_mean)\n",
    "sample_mean_male\n",
    "print(\"sample_mean_male:\",sample_mean_male)\n",
    "\n",
    "#SAMPLE AVG F\n",
    "sample_mean_female=np.mean(female_mean)\n",
    "print(\"sample_mean_female:\",sample_mean_female)\n",
    "\n",
    "#SAMPLE STD M\n",
    "sample_std_male=pd.Series(male_mean).std()\n",
    "print(\"sample_std_male:\",sample_std_male)\n",
    "\n",
    "#SAMPLE STD F\n",
    "sample_std_female=pd.Series(female_mean).std()\n",
    "print(\"sample_std_female:\",sample_std_female)\n",
    "\n",
    "\n",
    "#SAMPLE ERROR M\n",
    "sample_male_std_error=pd.Series(male_mean).std()/np.sqrt(1000)\n",
    "print(\"sample_male_std_error:\",sample_male_std_error)\n",
    "\n",
    "#SAMPLE ERROR F\n",
    "sample_female_std_error=pd.Series(female_mean).std()/np.sqrt(1000)\n",
    "print(\"sample_female_std_error:\",sample_female_std_error)\n",
    "\n",
    "\n",
    "#CI MALE\n",
    "CI_Upper_Limit_male=z90*sample_male_std_error + sample_mean_male\n",
    "CI_Lower_Limit_male= sample_mean_male - z90*sample_male_std_error\n",
    "print(\"90%_CI_MALE:\",\"[\",CI_Lower_Limit_male,\",\",CI_Upper_Limit_male,\"]\")\n",
    "\n",
    "#CI FEMALE\n",
    "CI_Upper_Limit_female=z90*sample_female_std_error + sample_mean_female\n",
    "CI_Lower_Limit_female=sample_mean_female - z90*sample_female_std_error\n",
    "print(\"90%_CI_FEMALE:\",\"[\",CI_Lower_Limit_female,\",\",CI_Upper_Limit_female,\"]\")\n"
   ]
  },
  {
   "cell_type": "code",
   "execution_count": 332,
   "id": "95e13416",
   "metadata": {},
   "outputs": [
    {
     "name": "stdout",
     "output_type": "stream",
     "text": [
      "population_avg_male 925344.4023668639\n",
      "population_avg_female: 712024.3949579832\n",
      "sample_mean_male: 925898.585098\n",
      "sample_mean_female: 711008.665089\n",
      "sample_std_male: 26878.961529473345\n",
      "sample_std_female: 15555.747360984049\n",
      "sample_male_std_error: 849.9873957317885\n",
      "sample_female_std_error: 491.9159236686308\n",
      "99%_CI_MALE: [ 923709.0175665949 , 928088.1526294051 ]\n",
      "99%_CI_FEMALE: [ 709741.4896696296 , 712275.8405083704 ]\n"
     ]
    }
   ],
   "source": [
    "#for 99% CI\n",
    "sample = 1000\n",
    "n = 1000\n",
    "male_mean = []\n",
    "female_mean = []\n",
    "\n",
    "for i in range(n):\n",
    "    male_mean1 = avg_male.sample(sample)['Purchase'].mean()\n",
    "    female_mean1 = avg_female.sample(sample)['Purchase'].mean()\n",
    "    \n",
    "    male_mean.append(male_mean1)\n",
    "    female_mean.append(female_mean1)\n",
    "\n",
    "#POP MEAN\n",
    "avg_m=avg_male['Purchase'].mean()\n",
    "avg_f=avg_female['Purchase'].mean()\n",
    "print(\"population_avg_male\",avg_m)\n",
    "print(\"population_avg_female:\",avg_f)\n",
    "\n",
    "#SAMPLE AVG M\n",
    "sample_mean_male=np.mean(male_mean)\n",
    "sample_mean_male\n",
    "print(\"sample_mean_male:\",sample_mean_male)\n",
    "\n",
    "#SAMPLE AVG F\n",
    "sample_mean_female=np.mean(female_mean)\n",
    "print(\"sample_mean_female:\",sample_mean_female)\n",
    "\n",
    "#SAMPLE STD M\n",
    "sample_std_male=pd.Series(male_mean).std()\n",
    "print(\"sample_std_male:\",sample_std_male)\n",
    "\n",
    "#SAMPLE STD F\n",
    "sample_std_female=pd.Series(female_mean).std()\n",
    "print(\"sample_std_female:\",sample_std_female)\n",
    "\n",
    "\n",
    "#SAMPLE ERROR M\n",
    "sample_male_std_error=pd.Series(male_mean).std()/np.sqrt(1000)\n",
    "print(\"sample_male_std_error:\",sample_male_std_error)\n",
    "\n",
    "#SAMPLE ERROR F\n",
    "sample_female_std_error=pd.Series(female_mean).std()/np.sqrt(1000)\n",
    "print(\"sample_female_std_error:\",sample_female_std_error)\n",
    "\n",
    "\n",
    "#CI MALE\n",
    "CI_Upper_Limit_male=z99*sample_male_std_error + sample_mean_male\n",
    "CI_Lower_Limit_male= sample_mean_male - z99*sample_male_std_error\n",
    "print(\"99%_CI_MALE:\",\"[\",CI_Lower_Limit_male,\",\",CI_Upper_Limit_male,\"]\")\n",
    "\n",
    "#CI FEMALE\n",
    "CI_Upper_Limit_female=z99*sample_female_std_error + sample_mean_female\n",
    "CI_Lower_Limit_female=sample_mean_female - z99*sample_female_std_error\n",
    "print(\"99%_CI_FEMALE:\",\"[\",CI_Lower_Limit_female,\",\",CI_Upper_Limit_female,\"]\")"
   ]
  },
  {
   "cell_type": "code",
   "execution_count": null,
   "id": "2a8bc68f",
   "metadata": {},
   "outputs": [],
   "source": [
    "#FOR MARITAL STATUS"
   ]
  },
  {
   "cell_type": "code",
   "execution_count": 341,
   "id": "dd4032c2",
   "metadata": {},
   "outputs": [
    {
     "data": {
      "text/html": [
       "<div>\n",
       "<style scoped>\n",
       "    .dataframe tbody tr th:only-of-type {\n",
       "        vertical-align: middle;\n",
       "    }\n",
       "\n",
       "    .dataframe tbody tr th {\n",
       "        vertical-align: top;\n",
       "    }\n",
       "\n",
       "    .dataframe thead th {\n",
       "        text-align: right;\n",
       "    }\n",
       "</style>\n",
       "<table border=\"1\" class=\"dataframe\">\n",
       "  <thead>\n",
       "    <tr style=\"text-align: right;\">\n",
       "      <th></th>\n",
       "      <th>User_ID</th>\n",
       "      <th>Marital_Status</th>\n",
       "      <th>Purchase</th>\n",
       "    </tr>\n",
       "  </thead>\n",
       "  <tbody>\n",
       "    <tr>\n",
       "      <th>0</th>\n",
       "      <td>1000001</td>\n",
       "      <td>0</td>\n",
       "      <td>334093</td>\n",
       "    </tr>\n",
       "    <tr>\n",
       "      <th>1</th>\n",
       "      <td>1000002</td>\n",
       "      <td>0</td>\n",
       "      <td>810472</td>\n",
       "    </tr>\n",
       "    <tr>\n",
       "      <th>2</th>\n",
       "      <td>1000003</td>\n",
       "      <td>0</td>\n",
       "      <td>341635</td>\n",
       "    </tr>\n",
       "    <tr>\n",
       "      <th>3</th>\n",
       "      <td>1000004</td>\n",
       "      <td>1</td>\n",
       "      <td>206468</td>\n",
       "    </tr>\n",
       "    <tr>\n",
       "      <th>4</th>\n",
       "      <td>1000005</td>\n",
       "      <td>1</td>\n",
       "      <td>821001</td>\n",
       "    </tr>\n",
       "    <tr>\n",
       "      <th>...</th>\n",
       "      <td>...</td>\n",
       "      <td>...</td>\n",
       "      <td>...</td>\n",
       "    </tr>\n",
       "    <tr>\n",
       "      <th>5886</th>\n",
       "      <td>1006036</td>\n",
       "      <td>1</td>\n",
       "      <td>4116058</td>\n",
       "    </tr>\n",
       "    <tr>\n",
       "      <th>5887</th>\n",
       "      <td>1006037</td>\n",
       "      <td>0</td>\n",
       "      <td>1119538</td>\n",
       "    </tr>\n",
       "    <tr>\n",
       "      <th>5888</th>\n",
       "      <td>1006038</td>\n",
       "      <td>0</td>\n",
       "      <td>90034</td>\n",
       "    </tr>\n",
       "    <tr>\n",
       "      <th>5889</th>\n",
       "      <td>1006039</td>\n",
       "      <td>1</td>\n",
       "      <td>590319</td>\n",
       "    </tr>\n",
       "    <tr>\n",
       "      <th>5890</th>\n",
       "      <td>1006040</td>\n",
       "      <td>0</td>\n",
       "      <td>1653299</td>\n",
       "    </tr>\n",
       "  </tbody>\n",
       "</table>\n",
       "<p>5891 rows × 3 columns</p>\n",
       "</div>"
      ],
      "text/plain": [
       "      User_ID  Marital_Status  Purchase\n",
       "0     1000001               0    334093\n",
       "1     1000002               0    810472\n",
       "2     1000003               0    341635\n",
       "3     1000004               1    206468\n",
       "4     1000005               1    821001\n",
       "...       ...             ...       ...\n",
       "5886  1006036               1   4116058\n",
       "5887  1006037               0   1119538\n",
       "5888  1006038               0     90034\n",
       "5889  1006039               1    590319\n",
       "5890  1006040               0   1653299\n",
       "\n",
       "[5891 rows x 3 columns]"
      ]
     },
     "execution_count": 341,
     "metadata": {},
     "output_type": "execute_result"
    }
   ],
   "source": [
    "avg_marital_status = df.groupby(['User_ID', 'Marital_Status'])[['Purchase']].sum()\n",
    "avg_marital_status = avg_marital_status.reset_index()\n",
    "avg_marital_status"
   ]
  },
  {
   "cell_type": "code",
   "execution_count": 349,
   "id": "2caf26a8",
   "metadata": {},
   "outputs": [],
   "source": [
    "avg_married = avg_marital_status[avg_marital_status['Marital_Status']==1]\n",
    "avg_unmarried = avg_marital_status[avg_marital_status['Marital_Status']==0]"
   ]
  },
  {
   "cell_type": "code",
   "execution_count": 350,
   "id": "757606f0",
   "metadata": {},
   "outputs": [
    {
     "name": "stdout",
     "output_type": "stream",
     "text": [
      "population_avg_married_marital_status 925344.4023668639\n",
      "population_avg_unmarried_marital_status: 712024.3949579832\n",
      "sample_mean_married: 844989.562964\n",
      "sample_mean_unmarried: 880660.137607\n",
      "sample_std_married: 29727.928101114176\n",
      "sample_std_unmarried: 30359.683481121505\n",
      "sample_married_std_error: 940.0796291724515\n",
      "sample_unmarried_std_error: 960.0574884213352\n",
      "90%_CI_married: [ 843443.1319740113 , 846535.9939539888 ]\n",
      "90%_CI_unmarried: [ 879080.8430385469 , 882239.432175453 ]\n"
     ]
    }
   ],
   "source": [
    "#FOR 90% CI\n",
    "sample1 = 1000\n",
    "n1 = 1000\n",
    "mean_married = []\n",
    "mean_unmarried = []\n",
    "\n",
    "for i in range(n1):\n",
    "    avg_married = avg_marital_status[avg_marital_status['Marital_Status']==1].sample(sample1,replace=True)['Purchase'].mean()\n",
    "    avg_unmarried = avg_marital_status[avg_marital_status['Marital_Status']==0].sample(sample1,replace=True)['Purchase'].mean()\n",
    "    \n",
    "    mean_married.append(avg_married)\n",
    "    mean_unmarried.append(avg_unmarried)\n",
    "#POP MEAN\n",
    "avg_m1=avg_male['Purchase'].mean()\n",
    "avg_f1=avg_female['Purchase'].mean()\n",
    "print(\"population_avg_married_marital_status\",avg_m1)\n",
    "print(\"population_avg_unmarried_marital_status:\",avg_f1)\n",
    "\n",
    "#SAMPLE MARRIED\n",
    "sample_mean_married=np.mean(mean_married)\n",
    "print(\"sample_mean_married:\",sample_mean_married)\n",
    "\n",
    "#SAMPLE UNMARRIEED\n",
    "sample_mean_unmarried=np.mean(mean_unmarried)\n",
    "print(\"sample_mean_unmarried:\",sample_mean_unmarried)\n",
    "\n",
    "#SAMPLE STD Married\n",
    "sample_std_married=pd.Series(mean_married).std()\n",
    "print(\"sample_std_married:\",sample_std_married)\n",
    "\n",
    "#SAMPLE STD unmarried\n",
    "sample_std_unmarried=pd.Series(mean_unmarried).std()\n",
    "print(\"sample_std_unmarried:\",sample_std_unmarried)\n",
    "\n",
    "\n",
    "#SAMPLE ERROR Married\n",
    "sample_married_std_error=pd.Series(mean_married).std()/np.sqrt(1000)\n",
    "print(\"sample_married_std_error:\",sample_married_std_error)\n",
    "\n",
    "#SAMPLE ERROR unmarried\n",
    "sample_unmarried_std_error=pd.Series(mean_unmarried).std()/np.sqrt(1000)\n",
    "print(\"sample_unmarried_std_error:\",sample_unmarried_std_error)\n",
    "\n",
    "\n",
    "#CI MArried\n",
    "CI_Upper_Limit_married=z90*sample_married_std_error + sample_mean_married\n",
    "CI_Lower_Limit_married= sample_mean_married- z90*sample_married_std_error\n",
    "print(\"90%_CI_married:\",\"[\",CI_Lower_Limit_married,\",\",CI_Upper_Limit_married,\"]\")\n",
    "\n",
    "#CI unmarried\n",
    "CI_Upper_Limit_unmarried=z90*sample_unmarried_std_error + sample_mean_unmarried\n",
    "CI_Lower_Limit_unmarried=sample_mean_unmarried - z90*sample_unmarried_std_error\n",
    "print(\"90%_CI_unmarried:\",\"[\",CI_Lower_Limit_unmarried,\",\",CI_Upper_Limit_unmarried,\"]\")\n"
   ]
  },
  {
   "cell_type": "code",
   "execution_count": 368,
   "id": "94870267",
   "metadata": {},
   "outputs": [
    {
     "name": "stdout",
     "output_type": "stream",
     "text": [
      "population_avg_married_marital_status 925344.4023668639\n",
      "population_avg_unmarried_marital_status: 712024.3949579832\n",
      "sample_mean_married: 842573.9196206668\n",
      "sample_mean_unmarried: 881554.1622893333\n",
      "sample_std_married: 24582.465669582816\n",
      "sample_std_unmarried: 25049.068209598536\n",
      "sample_married_std_error: 634.7165343133987\n",
      "sample_unmarried_std_error: 646.7641600919251\n",
      "90%_CI_married: [ 841329.8752134125 , 843817.9640279211 ]\n",
      "90%_CI_unmarried: [ 880286.5045355532 , 882821.8200431134 ]\n"
     ]
    }
   ],
   "source": [
    "#FOR 95% CI\n",
    "sample1 = 1500\n",
    "n1 = 1000\n",
    "mean_married = []\n",
    "mean_unmarried = []\n",
    "\n",
    "for i in range(n1):\n",
    "    avg_married = avg_marital_status[avg_marital_status['Marital_Status']==1].sample(sample1,replace=True)['Purchase'].mean()\n",
    "    avg_unmarried = avg_marital_status[avg_marital_status['Marital_Status']==0].sample(sample1,replace=True)['Purchase'].mean()\n",
    "    \n",
    "    mean_married.append(avg_married)\n",
    "    mean_unmarried.append(avg_unmarried)\n",
    "#POP MEAN\n",
    "avg_m1=avg_male['Purchase'].mean()\n",
    "avg_f1=avg_female['Purchase'].mean()\n",
    "print(\"population_avg_married_marital_status\",avg_m1)\n",
    "print(\"population_avg_unmarried_marital_status:\",avg_f1)\n",
    "\n",
    "#SAMPLE MARRIED\n",
    "sample_mean_married=np.mean(mean_married)\n",
    "print(\"sample_mean_married:\",sample_mean_married)\n",
    "\n",
    "#SAMPLE UNMARRIEED\n",
    "sample_mean_unmarried=np.mean(mean_unmarried)\n",
    "print(\"sample_mean_unmarried:\",sample_mean_unmarried)\n",
    "\n",
    "#SAMPLE STD Married\n",
    "sample_std_married=pd.Series(mean_married).std()\n",
    "print(\"sample_std_married:\",sample_std_married)\n",
    "\n",
    "#SAMPLE STD unmarried\n",
    "sample_std_unmarried=pd.Series(mean_unmarried).std()\n",
    "print(\"sample_std_unmarried:\",sample_std_unmarried)\n",
    "\n",
    "\n",
    "#SAMPLE ERROR Married\n",
    "sample_married_std_error=pd.Series(mean_married).std()/np.sqrt(1500)\n",
    "print(\"sample_married_std_error:\",sample_married_std_error)\n",
    "\n",
    "#SAMPLE ERROR unmarried\n",
    "sample_unmarried_std_error=pd.Series(mean_unmarried).std()/np.sqrt(1500)\n",
    "print(\"sample_unmarried_std_error:\",sample_unmarried_std_error)\n",
    "\n",
    "\n",
    "#CI MArried\n",
    "CI_Upper_Limit_married=z95*sample_married_std_error + sample_mean_married\n",
    "CI_Lower_Limit_married= sample_mean_married- z95*sample_married_std_error\n",
    "print(\"90%_CI_married:\",\"[\",CI_Lower_Limit_married,\",\",CI_Upper_Limit_married,\"]\")\n",
    "\n",
    "#CI unmarried\n",
    "CI_Upper_Limit_unmarried=z95*sample_unmarried_std_error + sample_mean_unmarried\n",
    "CI_Lower_Limit_unmarried=sample_mean_unmarried - z95*sample_unmarried_std_error\n",
    "print(\"90%_CI_unmarried:\",\"[\",CI_Lower_Limit_unmarried,\",\",CI_Upper_Limit_unmarried,\"]\")\n"
   ]
  },
  {
   "cell_type": "code",
   "execution_count": 369,
   "id": "751ec8c3",
   "metadata": {},
   "outputs": [
    {
     "name": "stdout",
     "output_type": "stream",
     "text": [
      "population_avg_married_marital_status 925344.4023668639\n",
      "population_avg_unmarried_marital_status: 712024.3949579832\n",
      "sample_mean_married: 843079.0491610001\n",
      "sample_mean_unmarried: 880141.9309430001\n",
      "sample_std_married: 30056.728495325875\n",
      "sample_std_unmarried: 30051.446720253218\n",
      "sample_married_std_error: 950.4772105851537\n",
      "sample_unmarried_std_error: 950.3101861919706\n",
      "90%_CI_married: [ 840630.6198665327 , 845527.4784554674 ]\n",
      "90%_CI_unmarried: [ 877693.9319033696 , 882589.9299826307 ]\n"
     ]
    }
   ],
   "source": [
    "#FOR 99% CI\n",
    "sample1 = 1000\n",
    "n1 = 1000\n",
    "mean_married = []\n",
    "mean_unmarried = []\n",
    "\n",
    "for i in range(n1):\n",
    "    avg_married = avg_marital_status[avg_marital_status['Marital_Status']==1].sample(sample1,replace=True)['Purchase'].mean()\n",
    "    avg_unmarried = avg_marital_status[avg_marital_status['Marital_Status']==0].sample(sample1,replace=True)['Purchase'].mean()\n",
    "    \n",
    "    mean_married.append(avg_married)\n",
    "    mean_unmarried.append(avg_unmarried)\n",
    "#POP MEAN\n",
    "avg_m1=avg_male['Purchase'].mean()\n",
    "avg_f1=avg_female['Purchase'].mean()\n",
    "print(\"population_avg_married_marital_status\",avg_m1)\n",
    "print(\"population_avg_unmarried_marital_status:\",avg_f1)\n",
    "\n",
    "#SAMPLE MARRIED\n",
    "sample_mean_married=np.mean(mean_married)\n",
    "print(\"sample_mean_married:\",sample_mean_married)\n",
    "\n",
    "#SAMPLE UNMARRIEED\n",
    "sample_mean_unmarried=np.mean(mean_unmarried)\n",
    "print(\"sample_mean_unmarried:\",sample_mean_unmarried)\n",
    "\n",
    "#SAMPLE STD Married\n",
    "sample_std_married=pd.Series(mean_married).std()\n",
    "print(\"sample_std_married:\",sample_std_married)\n",
    "\n",
    "#SAMPLE STD unmarried\n",
    "sample_std_unmarried=pd.Series(mean_unmarried).std()\n",
    "print(\"sample_std_unmarried:\",sample_std_unmarried)\n",
    "\n",
    "\n",
    "#SAMPLE ERROR Married\n",
    "sample_married_std_error=pd.Series(mean_married).std()/np.sqrt(1000)\n",
    "print(\"sample_married_std_error:\",sample_married_std_error)\n",
    "\n",
    "#SAMPLE ERROR unmarried\n",
    "sample_unmarried_std_error=pd.Series(mean_unmarried).std()/np.sqrt(1000)\n",
    "print(\"sample_unmarried_std_error:\",sample_unmarried_std_error)\n",
    "\n",
    "\n",
    "#CI MArried\n",
    "CI_Upper_Limit_married=z99*sample_married_std_error + sample_mean_married\n",
    "CI_Lower_Limit_married= sample_mean_married- z99*sample_married_std_error\n",
    "print(\"90%_CI_married:\",\"[\",CI_Lower_Limit_married,\",\",CI_Upper_Limit_married,\"]\")\n",
    "\n",
    "#CI unmarried\n",
    "CI_Upper_Limit_unmarried=z99*sample_unmarried_std_error + sample_mean_unmarried\n",
    "CI_Lower_Limit_unmarried=sample_mean_unmarried - z99*sample_unmarried_std_error\n",
    "print(\"90%_CI_unmarried:\",\"[\",CI_Lower_Limit_unmarried,\",\",CI_Upper_Limit_unmarried,\"]\")\n"
   ]
  },
  {
   "cell_type": "code",
   "execution_count": null,
   "id": "2b3816a0",
   "metadata": {},
   "outputs": [],
   "source": [
    "##FOR CI OF AGE "
   ]
  },
  {
   "cell_type": "code",
   "execution_count": 408,
   "id": "7719bc5c",
   "metadata": {},
   "outputs": [
    {
     "data": {
      "text/html": [
       "<div>\n",
       "<style scoped>\n",
       "    .dataframe tbody tr th:only-of-type {\n",
       "        vertical-align: middle;\n",
       "    }\n",
       "\n",
       "    .dataframe tbody tr th {\n",
       "        vertical-align: top;\n",
       "    }\n",
       "\n",
       "    .dataframe thead th {\n",
       "        text-align: right;\n",
       "    }\n",
       "</style>\n",
       "<table border=\"1\" class=\"dataframe\">\n",
       "  <thead>\n",
       "    <tr style=\"text-align: right;\">\n",
       "      <th></th>\n",
       "      <th>User_ID</th>\n",
       "      <th>Age</th>\n",
       "      <th>Purchase</th>\n",
       "    </tr>\n",
       "  </thead>\n",
       "  <tbody>\n",
       "    <tr>\n",
       "      <th>0</th>\n",
       "      <td>1000001</td>\n",
       "      <td>0-17</td>\n",
       "      <td>334093</td>\n",
       "    </tr>\n",
       "    <tr>\n",
       "      <th>1</th>\n",
       "      <td>1000002</td>\n",
       "      <td>55+</td>\n",
       "      <td>810472</td>\n",
       "    </tr>\n",
       "    <tr>\n",
       "      <th>2</th>\n",
       "      <td>1000003</td>\n",
       "      <td>26-35</td>\n",
       "      <td>341635</td>\n",
       "    </tr>\n",
       "    <tr>\n",
       "      <th>3</th>\n",
       "      <td>1000004</td>\n",
       "      <td>46-50</td>\n",
       "      <td>206468</td>\n",
       "    </tr>\n",
       "    <tr>\n",
       "      <th>4</th>\n",
       "      <td>1000005</td>\n",
       "      <td>26-35</td>\n",
       "      <td>821001</td>\n",
       "    </tr>\n",
       "    <tr>\n",
       "      <th>...</th>\n",
       "      <td>...</td>\n",
       "      <td>...</td>\n",
       "      <td>...</td>\n",
       "    </tr>\n",
       "    <tr>\n",
       "      <th>5886</th>\n",
       "      <td>1006036</td>\n",
       "      <td>26-35</td>\n",
       "      <td>4116058</td>\n",
       "    </tr>\n",
       "    <tr>\n",
       "      <th>5887</th>\n",
       "      <td>1006037</td>\n",
       "      <td>46-50</td>\n",
       "      <td>1119538</td>\n",
       "    </tr>\n",
       "    <tr>\n",
       "      <th>5888</th>\n",
       "      <td>1006038</td>\n",
       "      <td>55+</td>\n",
       "      <td>90034</td>\n",
       "    </tr>\n",
       "    <tr>\n",
       "      <th>5889</th>\n",
       "      <td>1006039</td>\n",
       "      <td>46-50</td>\n",
       "      <td>590319</td>\n",
       "    </tr>\n",
       "    <tr>\n",
       "      <th>5890</th>\n",
       "      <td>1006040</td>\n",
       "      <td>26-35</td>\n",
       "      <td>1653299</td>\n",
       "    </tr>\n",
       "  </tbody>\n",
       "</table>\n",
       "<p>5891 rows × 3 columns</p>\n",
       "</div>"
      ],
      "text/plain": [
       "      User_ID    Age  Purchase\n",
       "0     1000001   0-17    334093\n",
       "1     1000002    55+    810472\n",
       "2     1000003  26-35    341635\n",
       "3     1000004  46-50    206468\n",
       "4     1000005  26-35    821001\n",
       "...       ...    ...       ...\n",
       "5886  1006036  26-35   4116058\n",
       "5887  1006037  46-50   1119538\n",
       "5888  1006038    55+     90034\n",
       "5889  1006039  46-50    590319\n",
       "5890  1006040  26-35   1653299\n",
       "\n",
       "[5891 rows x 3 columns]"
      ]
     },
     "execution_count": 408,
     "metadata": {},
     "output_type": "execute_result"
    }
   ],
   "source": [
    "avg_age = df.groupby(['User_ID', 'Age'])[['Purchase']].sum()\n",
    "avg_age = avg_age.reset_index()\n",
    "avg_age"
   ]
  },
  {
   "cell_type": "code",
   "execution_count": 413,
   "id": "ede21e74",
   "metadata": {},
   "outputs": [
    {
     "name": "stdout",
     "output_type": "stream",
     "text": [
      "26-35 : [913767.2301510816, 1065551.404042781]\n",
      "36-45 : [807454.1428281898, 951877.2779087424]\n",
      "18-25 : [789539.0913828193, 920187.1480933266]\n",
      "46-50 : [724183.3888670562, 860914.174221456]\n",
      "51-55 : [704912.4406315363, 821489.40552231]\n",
      "55+ : [494271.40072254743, 585123.0885247644]\n",
      "0-17 : [568323.3689625969, 669412.2548906142]\n"
     ]
    }
   ],
   "source": [
    "#90%\n",
    "z90=1.645\n",
    "sample2 = 500\n",
    "n2 = 1000\n",
    "sample_mean_age = []\n",
    "age_bins = ['26-35', '36-45', '18-25', '46-50', '51-55', '55+', '0-17']\n",
    "for i in (age_bins):\n",
    "    df3 = avg_age[avg_age['Age']==i] \n",
    "    sample_age_mean = df3['Purchase'].mean()\n",
    "    lower_lim = sample_age_mean - z90*df3['Purchase'].std()/np.sqrt(500)\n",
    "    upper_lim = sample_age_mean + z90*df3['Purchase'].std()/np.sqrt(500)\n",
    "\n",
    "    print(i,':', [lower_lim, upper_lim])"
   ]
  },
  {
   "cell_type": "code",
   "execution_count": 412,
   "id": "971446ba",
   "metadata": {},
   "outputs": [
    {
     "name": "stdout",
     "output_type": "stream",
     "text": [
      "26-35 : [925719.4591863499, 1053599.1750075128]\n",
      "36-45 : [818826.727625508, 940504.6931114242]\n",
      "18-25 : [799826.9590621657, 909899.2804139802]\n",
      "46-50 : [734950.2403827746, 850147.3227057377]\n",
      "51-55 : [714092.2816445073, 812309.5645093389]\n",
      "55+ : [501425.50745852094, 577968.9817887909]\n",
      "0-17 : [576283.6028035366, 661452.0210496745]\n"
     ]
    }
   ],
   "source": [
    "#95%\n",
    "#z95=1.960\n",
    "sample2 = 1000\n",
    "n2 = 1000\n",
    "sample_mean_age = {}\n",
    "age_bins = ['26-35', '36-45', '18-25', '46-50', '51-55', '55+', '0-17']\n",
    "for k in (age_bins):\n",
    "    df3 = avg_age[avg_age['Age']==k] \n",
    "    sample_age_mean = df3['Purchase'].mean()\n",
    "    lower_lim = sample_age_mean - z95*df3['Purchase'].std()/np.sqrt(1000)\n",
    "    upper_lim = sample_age_mean + z95*df3['Purchase'].std()/np.sqrt(1000)\n",
    "\n",
    "    print(k,':', [lower_lim, upper_lim])"
   ]
  },
  {
   "cell_type": "code",
   "execution_count": 416,
   "id": "1b842342",
   "metadata": {},
   "outputs": [
    {
     "name": "stdout",
     "output_type": "stream",
     "text": [
      "26-35 : [895705.0604833894, 1083613.5737104733]\n",
      "36-45 : [790267.9296487692, 969063.491088163]\n",
      "18-25 : [773992.0991862337, 935734.1402899122]\n",
      "46-50 : [707912.5578538696, 877185.0052346427]\n",
      "51-55 : [691039.8947315654, 835361.9514222809]\n",
      "55+ : [483460.1378773794, 595934.3513699324]\n",
      "0-17 : [556293.8894566991, 681441.7343965119]\n"
     ]
    }
   ],
   "source": [
    "#99%\n",
    "z99=2.576\n",
    "sample2 = 800\n",
    "n2 = 1000\n",
    "sample_mean_age = {}\n",
    "age_bins = ['26-35', '36-45', '18-25', '46-50', '51-55', '55+', '0-17']\n",
    "for i in age_bins:\n",
    "    sample_mean_age[i] = []\n",
    "for i in age_bins:\n",
    "    for j in range(n2):\n",
    "        mean = avg_age[avg_age['Age']==i].sample(sample_size)['Purchase'].mean()\n",
    "        sample_mean_age[i].append(mean)\n",
    "for k in (age_bins):\n",
    "    df3 = avg_age[avg_age['Age']==k] \n",
    "    sample_age_mean = df3['Purchase'].mean()\n",
    "    lower_lim = sample_age_mean - z99*df3['Purchase'].std()/np.sqrt(800)\n",
    "    upper_lim = sample_age_mean + z99*df3['Purchase'].std()/np.sqrt(800)\n",
    "\n",
    "    print(k,':', [lower_lim, upper_lim])"
   ]
  },
  {
   "cell_type": "code",
   "execution_count": null,
   "id": "4372b1d0",
   "metadata": {},
   "outputs": [],
   "source": []
  }
 ],
 "metadata": {
  "kernelspec": {
   "display_name": "Python 3 (ipykernel)",
   "language": "python",
   "name": "python3"
  },
  "language_info": {
   "codemirror_mode": {
    "name": "ipython",
    "version": 3
   },
   "file_extension": ".py",
   "mimetype": "text/x-python",
   "name": "python",
   "nbconvert_exporter": "python",
   "pygments_lexer": "ipython3",
   "version": "3.9.7"
  }
 },
 "nbformat": 4,
 "nbformat_minor": 5
}
